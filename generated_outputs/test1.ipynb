{
 "cells": [
  {
   "cell_type": "code",
   "execution_count": null,
   "id": "3699668c",
   "metadata": {},
   "outputs": [],
   "source": [
    "from build123d import *\n",
    "\n",
    "from IPython.display import display"
   ]
  },
  {
   "cell_type": "code",
   "execution_count": null,
   "id": "7f93196f",
   "metadata": {},
   "outputs": [],
   "source": [
    "\n",
    "pts = [(0, 0), (20, 20), (40, 0), (0, -40), (-60, 0), (0, 100), (100, 0)]\n",
    "wts = [1.0, 1.0, 2.0, 3.0, 4.0, 2.0, 1.0]\n",
    "\n",
    "ex30_ln = Polyline(pts) + Bezier(pts, weights=wts)\n",
    "ex30_sk = make_face(ex30_ln)\n",
    "ex30 = extrude(ex30_sk, -10)\n",
    "\n",
    "display(ex30)"
   ]
  },
  {
   "cell_type": "code",
   "execution_count": null,
   "id": "97629a71",
   "metadata": {},
   "outputs": [],
   "source": [
    "\n",
    "import matplotlib.pyplot as plt\n",
    "import numpy as np\n",
    "\n",
    "X = np.linspace(-10, 10)\n",
    "plt.plot(X, X**2)"
   ]
  },
  {
   "cell_type": "code",
   "execution_count": null,
   "id": "f72d3057",
   "metadata": {
    "lines_to_next_cell": 2
   },
   "outputs": [],
   "source": [
    "\n",
    "a, b, c = 80.0, 10.0, 1.0\n",
    "\n",
    "ex32_sk = RegularPolygon(2 * b, 6, rotation=30)\n",
    "ex32_sk += PolarLocations(a / 2, 6) * RegularPolygon(b, 4)\n",
    "ex32 = Part() + [extrude(obj, c + 3 * idx) for idx, obj in enumerate(ex32_sk.faces())]\n",
    "display(ex32)"
   ]
  }
 ],
 "metadata": {
  "jupytext": {
   "cell_metadata_filter": "-all",
   "main_language": "python",
   "notebook_metadata_filter": "-all"
  }
 },
 "nbformat": 4,
 "nbformat_minor": 5
}
