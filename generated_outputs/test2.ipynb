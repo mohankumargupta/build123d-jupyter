{
 "cells": [
  {
   "cell_type": "code",
   "execution_count": null,
   "id": "1555bd58",
   "metadata": {},
   "outputs": [],
   "source": [
    "from build123d import *"
   ]
  },
  {
   "cell_type": "code",
   "execution_count": null,
   "id": "31e42642",
   "metadata": {},
   "outputs": [],
   "source": [
    "\n",
    "box = Box(10,10,10)\n",
    "box"
   ]
  },
  {
   "cell_type": "code",
   "execution_count": null,
   "id": "b8e92249",
   "metadata": {},
   "outputs": [],
   "source": [
    "\n",
    "print(box.show_topology())"
   ]
  },
  {
   "cell_type": "code",
   "execution_count": null,
   "id": "31d1618c",
   "metadata": {
    "lines_to_next_cell": 3
   },
   "outputs": [],
   "source": [
    "\n",
    "with BuildPart() as part_builder:\n",
    "    with BuildSketch() as sketch:\n",
    "        Rectangle(50,20)\n",
    "    extrude(amount=10)\n",
    "    \n",
    "part = part_builder.part\n",
    "part"
   ]
  }
 ],
 "metadata": {
  "jupytext": {
   "cell_metadata_filter": "-all",
   "main_language": "python",
   "notebook_metadata_filter": "-all"
  }
 },
 "nbformat": 4,
 "nbformat_minor": 5
}
